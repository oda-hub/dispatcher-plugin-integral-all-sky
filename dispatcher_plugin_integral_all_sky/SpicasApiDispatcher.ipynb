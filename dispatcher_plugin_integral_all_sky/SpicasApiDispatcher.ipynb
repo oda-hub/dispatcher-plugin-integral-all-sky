{
 "cells": [
  {
   "cell_type": "code",
   "execution_count": 36,
   "metadata": {},
   "outputs": [
    {
     "name": "stdout",
     "output_type": "stream",
     "text": [
      "Populating the interactive namespace from numpy and matplotlib\n"
     ]
    },
    {
     "name": "stderr",
     "output_type": "stream",
     "text": [
      "/Users/orion/anaconda2/lib/python2.7/site-packages/IPython/core/magics/pylab.py:161: UserWarning: pylab import has clobbered these variables: ['rate', 'plt']\n",
      "`%matplotlib` prevents importing * from pylab and numpy\n",
      "  \"\\n`%matplotlib` prevents importing * from pylab and numpy\"\n"
     ]
    }
   ],
   "source": [
    "%pylab inline\n",
    "%matplotlib notebook\n",
    "\n"
   ]
  },
  {
   "cell_type": "code",
   "execution_count": 37,
   "metadata": {},
   "outputs": [],
   "source": [
    "import requests\n"
   ]
  },
  {
   "cell_type": "code",
   "execution_count": 38,
   "metadata": {
    "collapsed": true
   },
   "outputs": [],
   "source": [
    "import pandas as pd "
   ]
  },
  {
   "cell_type": "code",
   "execution_count": 39,
   "metadata": {
    "collapsed": true
   },
   "outputs": [],
   "source": [
    "def get_lc(_dict):\n",
    "    return requests.get(\"http://10.194.169.161:32784/run_analysis\",params=_dict)\n"
   ]
  },
  {
   "cell_type": "code",
   "execution_count": 40,
   "metadata": {},
   "outputs": [],
   "source": [
    "def set_polar_lc_query(src_name='polar_test_src',\n",
    "                     time_bin=0.2   ,\n",
    "                     time_bin_format='sec',\n",
    "                     query_type='Real',\n",
    "                     upload_data=None,\n",
    "                     session_id='test',\n",
    "                     T1_iso='2016-12-18T08:32:21.000',\n",
    "                     T2_iso='2016-12-18T08:34:01.000',\n",
    "                     E1_keV=10.,\n",
    "                     E2_keV=100.,\n",
    "                     query_status='new',\n",
    "                     run_asynch='False'\n",
    "                      ):\n",
    "    instrument_name='polar'\n",
    "    product_type = 'polar_lc'\n",
    "    parameters_dic = dict(E1_keV=E1_keV, E2_keV=E2_keV, T1=T1_iso, T2=T2_iso,session_id=session_id, query_type=query_type, product_type=product_type,\n",
    "                        src_name=src_name, time_bin=time_bin,\n",
    "                          time_bin_format=time_bin_format,instrument='polar',query_status=query_status,off_line=False)\n",
    "\n",
    "    return parameters_dic"
   ]
  },
  {
   "cell_type": "code",
   "execution_count": 41,
   "metadata": {},
   "outputs": [],
   "source": [
    "_dic=set_polar_lc_query()"
   ]
  },
  {
   "cell_type": "code",
   "execution_count": 42,
   "metadata": {},
   "outputs": [],
   "source": [
    "res=get_lc(_dict=_dic)\n",
    "lc_data=res.json()['products']['data']"
   ]
  },
  {
   "cell_type": "code",
   "execution_count": 43,
   "metadata": {},
   "outputs": [],
   "source": [
    "rate=lc_data['rate']\n",
    "time=lc_data['time']\n",
    "rate_err=lc_data['rate_err']\n",
    "\n"
   ]
  },
  {
   "cell_type": "code",
   "execution_count": 44,
   "metadata": {},
   "outputs": [
    {
     "data": {
      "text/plain": [
       "<IPython.core.display.Javascript object>"
      ]
     },
     "metadata": {},
     "output_type": "display_data"
    },
    {
     "data": {
      "text/html": [
       "<img src=\"data:image/png;base64,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\" width=\"431.818172458775\">"
      ],
      "text/plain": [
       "<IPython.core.display.HTML object>"
      ]
     },
     "metadata": {},
     "output_type": "execute_result"
    },
    {
     "data": {
      "text/plain": [
       "<Container object of 3 artists>"
      ]
     },
     "execution_count": 44,
     "metadata": {},
     "output_type": "execute_result"
    }
   ],
   "source": [
    "errorbar(time,rate,rate_err,ls=\"\")\n"
   ]
  },
  {
   "cell_type": "code",
   "execution_count": null,
   "metadata": {
    "collapsed": true
   },
   "outputs": [],
   "source": []
  }
 ],
 "metadata": {
  "kernelspec": {
   "display_name": "Python 2",
   "language": "python",
   "name": "python2"
  },
  "language_info": {
   "codemirror_mode": {
    "name": "ipython",
    "version": 2
   },
   "file_extension": ".py",
   "mimetype": "text/x-python",
   "name": "python",
   "nbconvert_exporter": "python",
   "pygments_lexer": "ipython2",
   "version": "2.7.14"
  }
 },
 "nbformat": 4,
 "nbformat_minor": 2
}
